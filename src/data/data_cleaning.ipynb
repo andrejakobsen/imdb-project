{
 "cells": [
  {
   "cell_type": "code",
   "execution_count": 7,
   "metadata": {},
   "outputs": [],
   "source": [
    "import numpy as np\n",
    "import pandas as pd\n",
    "import requests\n",
    "import os\n",
    "from dotenv import find_dotenv, load_dotenv\n",
    "from tqdm import trange\n",
    "import sys\n",
    "import json"
   ]
  },
  {
   "cell_type": "code",
   "execution_count": 3,
   "metadata": {},
   "outputs": [
    {
     "name": "stderr",
     "output_type": "stream",
     "text": [
      "100%|██████████| 514/514 [10:53<00:00,  1.27s/it]\n"
     ]
    }
   ],
   "source": [
    "# Get all games\n",
    "load_dotenv(find_dotenv())\n",
    "API_KEY = os.environ.get('API_KEY')\n",
    "\n",
    "url_games = \"https://free-nba.p.rapidapi.com/games\"\n",
    "headers = {\"X-RapidAPI-Key\": API_KEY, \n",
    "           \"X-RapidAPI-Host\": \"free-nba.p.rapidapi.com\"}\n",
    "params = {\"page\": \"0\", \"per_page\":\"100\"}\n",
    "response_g = requests.get(url_games, headers=headers, params=params)\n",
    "json_games = response_g.json()\n",
    "pages = json_games['meta']['total_pages']\n",
    "\n",
    "games_data =[]\n",
    "for x in trange(pages + 1):\n",
    "    params = {\"page\": f\"{x}\", \"per_page\":\"100\"}\n",
    "    response_g = requests.get(url_games, headers=headers, params=params)\n",
    "    json_games = response_g.json()\n",
    "    games_data.extend(json_games[\"data\"])\n",
    "\n"
   ]
  },
  {
   "cell_type": "code",
   "execution_count": 4,
   "metadata": {},
   "outputs": [
    {
     "name": "stdout",
     "output_type": "stream",
     "text": [
      "It occupies 459.096kB of memory.\n"
     ]
    }
   ],
   "source": [
    "def get_data_size(data):\n",
    "    data_size = sys.getsizeof(data)/1000\n",
    "    print(f\"It occupies {data_size}kB of memory.\")\n",
    "\n",
    "get_data_size(games_data)"
   ]
  },
  {
   "cell_type": "code",
   "execution_count": 6,
   "metadata": {},
   "outputs": [
    {
     "name": "stdout",
     "output_type": "stream",
     "text": [
      "../data/raw\n"
     ]
    }
   ],
   "source": [
    "from constants import RAW_DATA_FOLDER\n",
    "print(RAW_DATA_FOLDER)"
   ]
  },
  {
   "cell_type": "code",
   "execution_count": 15,
   "metadata": {},
   "outputs": [],
   "source": [
    "with open(\"../../data/raw/games_data.json\", \"w+\") as f:\n",
    "    f.write(\n",
    "        '[' +\n",
    "        ',\\n'.join(json.dumps(i) for i in games_data) +\n",
    "        ']\\n')"
   ]
  }
 ],
 "metadata": {
  "interpreter": {
   "hash": "0a52b4c0c6acb2f35a361e3864effd6a46c2308971a37d1d983df1e59e3378e7"
  },
  "kernelspec": {
   "display_name": "Python 3.8.5 64-bit ('venv': venv)",
   "language": "python",
   "name": "python3"
  },
  "language_info": {
   "codemirror_mode": {
    "name": "ipython",
    "version": 3
   },
   "file_extension": ".py",
   "mimetype": "text/x-python",
   "name": "python",
   "nbconvert_exporter": "python",
   "pygments_lexer": "ipython3",
   "version": "3.10.6"
  },
  "orig_nbformat": 4
 },
 "nbformat": 4,
 "nbformat_minor": 2
}
