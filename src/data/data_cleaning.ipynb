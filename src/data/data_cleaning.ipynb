{
 "cells": [
  {
   "cell_type": "code",
   "execution_count": 1,
   "metadata": {},
   "outputs": [],
   "source": [
    "import numpy as np\n",
    "import pandas as pd\n",
    "import requests\n",
    "import os\n",
    "from dotenv import find_dotenv, load_dotenv"
   ]
  },
  {
   "cell_type": "code",
   "execution_count": 2,
   "metadata": {},
   "outputs": [],
   "source": [
    "# Get all games from season 2021 and 2022\n",
    "load_dotenv(find_dotenv())\n",
    "API_KEY = os.environ.get('API_KEY')\n",
    "\n",
    "url = \"https://free-nba.p.rapidapi.com/games\"\n",
    "headers = {\"X-RapidAPI-Key\": API_KEY, \n",
    "           \"X-RapidAPI-Host\": \"free-nba.p.rapidapi.com\"}\n",
    "params = {\"page\":\"0\",\n",
    "          \"per_page\":\"10\"}\n",
    "\n",
    "response = requests.get(url, headers=headers, params=params)\n",
    "\n",
    "json_data = response.json()"
   ]
  }
 ],
 "metadata": {
  "interpreter": {
   "hash": "0a52b4c0c6acb2f35a361e3864effd6a46c2308971a37d1d983df1e59e3378e7"
  },
  "kernelspec": {
   "display_name": "Python 3.8.5 64-bit ('venv': venv)",
   "language": "python",
   "name": "python3"
  },
  "language_info": {
   "codemirror_mode": {
    "name": "ipython",
    "version": 3
   },
   "file_extension": ".py",
   "mimetype": "text/x-python",
   "name": "python",
   "nbconvert_exporter": "python",
   "pygments_lexer": "ipython3",
   "version": "3.10.6"
  },
  "orig_nbformat": 4
 },
 "nbformat": 4,
 "nbformat_minor": 2
}
